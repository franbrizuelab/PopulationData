{
  "nbformat": 4,
  "nbformat_minor": 0,
  "metadata": {
    "colab": {
      "provenance": [],
      "collapsed_sections": [
        "bcdzwUb5yHKT"
      ]
    },
    "kernelspec": {
      "name": "python3",
      "display_name": "Python 3"
    },
    "language_info": {
      "name": "python"
    }
  },
  "cells": [
    {
      "cell_type": "markdown",
      "source": [
        "# Extract parameters of Interest\n",
        "\n"
      ],
      "metadata": {
        "id": "bcdzwUb5yHKT"
      }
    },
    {
      "cell_type": "code",
      "source": [
        "import pandas as pd\n",
        "import numpy as np\n",
        "\n",
        "# Load the dataset\n",
        "file_path = 'movies.csv'\n",
        "movies = pd.read_csv(file_path)"
      ],
      "metadata": {
        "id": "eiuQs73azCLP"
      },
      "execution_count": null,
      "outputs": []
    },
    {
      "cell_type": "code",
      "source": [
        "# Extract movies-related columns\n",
        "movies_data = movies[[\n",
        "    'id', 'title', 'tagline', 'overview', 'original_language',\n",
        "    'release_date', 'runtime', 'vote_average', 'vote_count', 'budget'\n",
        "]]\n",
        "\n",
        "# Rename columns to match database schema\n",
        "movies_data.columns = [\n",
        "    'movieId', 'title', 'tagline', 'overview', 'language',\n",
        "    'releaseDate', 'runtime', 'voteAverage', 'voteCount', 'budget'\n",
        "]\n",
        "\n",
        "# Save to CSV for import\n",
        "movies_data.to_csv('/mnt/data/movies_data.csv', index=False)\n",
        "print(\"Movies data saved.\")\n"
      ],
      "metadata": {
        "id": "w1B1dq3mynRC"
      },
      "execution_count": null,
      "outputs": []
    },
    {
      "cell_type": "markdown",
      "source": [
        "# Process JSON Objects"
      ],
      "metadata": {
        "id": "3H6lOafMx-F9"
      }
    },
    {
      "cell_type": "markdown",
      "source": [
        "## Movie Genre Processing"
      ],
      "metadata": {
        "id": "H1gznte37110"
      }
    },
    {
      "cell_type": "code",
      "source": [
        "import json"
      ],
      "metadata": {
        "collapsed": true,
        "id": "o8-B1tZv0or8"
      },
      "execution_count": 2,
      "outputs": []
    },
    {
      "cell_type": "code",
      "source": [
        "# Replace single quotes with double quotes for proper JSON parsing\n",
        "movies['genres'] = movies['genres'].str.replace(\"'\", '\"', regex=False)\n",
        "\n",
        "# Placeholder for genres list\n",
        "genres_list = []\n",
        "\n",
        "# Process each row in the movies DataFrame\n",
        "for _, row in movies.iterrows():\n",
        "    if pd.notna(row['genres']):\n",
        "        try:\n",
        "            # Parse genres JSON\n",
        "            genres = json.loads(row['genres'])\n",
        "            for genre in genres:\n",
        "                genres_list.append({'movieId': row['id'], 'genreId': genre['id'], 'name': genre['name']})\n",
        "        except json.JSONDecodeError:\n",
        "            print(f\"Skipping malformed JSON: {row['genres']}\")\n",
        "\n",
        "# Convert genres list to DataFrame\n",
        "genres_df = pd.DataFrame(genres_list)\n",
        "\n",
        "# Create unique Genres table\n",
        "genres_table = genres_df[['genreId', 'name']].drop_duplicates()\n",
        "\n",
        "# Explicitly convert genreId to integer for consistent sorting\n",
        "genres_table['genreId'] = genres_table['genreId'].astype(int)\n",
        "\n",
        "# Sort Genres table by genreId\n",
        "genres_table = genres_table.sort_values(by='genreId')\n",
        "\n",
        "# Save sorted Genres table\n",
        "genres_table.to_csv('genres.csv', index=False)\n",
        "print(\"Genres table saved and sorted by genreId.\")\n",
        "\n",
        "# Create MovieGenres table\n",
        "movie_genres_table = genres_df[['movieId', 'genreId']].drop_duplicates()\n",
        "\n",
        "# Remove rows with invalid movieId or genreId\n",
        "movie_genres_table = movie_genres_table[\n",
        "    movie_genres_table['movieId'].astype(str).str.isnumeric() &\n",
        "    movie_genres_table['genreId'].astype(str).str.isnumeric()\n",
        "]\n",
        "\n",
        "# Convert columns to integers for consistent sorting\n",
        "movie_genres_table['movieId'] = movie_genres_table['movieId'].astype(int)\n",
        "movie_genres_table['genreId'] = movie_genres_table['genreId'].astype(int)\n",
        "\n",
        "# Sort MovieGenres table by movieId and genreId\n",
        "movie_genres_table = movie_genres_table.sort_values(by=['movieId', 'genreId'])\n",
        "\n",
        "# Save sorted MovieGenres table\n",
        "movie_genres_table.to_csv('movie_genres.csv', index=False)\n",
        "print(\"MovieGenres table saved and sorted by movieId and genreId.\")"
      ],
      "metadata": {
        "colab": {
          "base_uri": "https://localhost:8080/"
        },
        "id": "El61WmZH0PTo",
        "outputId": "34a233d8-a4d8-466a-dbd5-c3603628731f"
      },
      "execution_count": null,
      "outputs": [
        {
          "output_type": "stream",
          "name": "stdout",
          "text": [
            "Genres table saved and sorted by genreId.\n",
            "MovieGenres table saved and sorted by movieId and genreId.\n"
          ]
        }
      ]
    },
    {
      "cell_type": "markdown",
      "source": [
        "## Movie Producer Company Processing\n"
      ],
      "metadata": {
        "id": "-m1-z0EB8AOU"
      }
    },
    {
      "cell_type": "code",
      "source": [
        "import ast\n",
        "\n",
        "# Placeholder for company list\n",
        "companies_list = []\n",
        "\n",
        "# Ensure all values in production_companies are strings\n",
        "movies['production_companies'] = movies['production_companies'].astype(str)\n",
        "\n",
        "# Filter rows that look like valid JSON arrays\n",
        "valid_rows = movies['production_companies'].str.startswith('[')\n",
        "movies = movies[valid_rows]\n",
        "\n",
        "# Process each row in the valid movies DataFrame\n",
        "for _, row in movies.iterrows():\n",
        "    try:\n",
        "        # Safely evaluate the Python-like string\n",
        "        companies = ast.literal_eval(row['production_companies'])\n",
        "\n",
        "        # Process each company\n",
        "        for company in companies:\n",
        "            companies_list.append({'movieId': row['id'], 'companyId': company['id'], 'name': company['name']})\n",
        "    except (ValueError, SyntaxError, TypeError) as e:\n",
        "        print(f\"Skipping malformed data: {row['production_companies']} - Error: {e}\")\n",
        "\n",
        "# Convert companies list to DataFrame\n",
        "companies_df = pd.DataFrame(companies_list)\n",
        "\n",
        "# Ensure movieId and companyId are numeric, drop invalid rows\n",
        "companies_df['movieId'] = pd.to_numeric(companies_df['movieId'], errors='coerce')\n",
        "companies_df['companyId'] = pd.to_numeric(companies_df['companyId'], errors='coerce')\n",
        "companies_df = companies_df.dropna(subset=['movieId', 'companyId']).astype({'movieId': 'int', 'companyId': 'int'})\n",
        "\n",
        "# Create unique Companies table\n",
        "companies_table = companies_df[['companyId', 'name']].drop_duplicates().sort_values(by='companyId')\n",
        "companies_table.to_csv('companies_sorted.csv', index=False)\n",
        "print(\"Companies table saved and sorted by companyId.\")\n",
        "\n",
        "# Create MovieCompanies table\n",
        "movie_companies_table = companies_df[['movieId', 'companyId']].drop_duplicates().sort_values(by=['movieId', 'companyId'])\n",
        "movie_companies_table.to_csv('movie_companies_sorted.csv', index=False)\n",
        "print(\"MovieCompanies table saved and sorted by movieId and companyId.\")"
      ],
      "metadata": {
        "colab": {
          "base_uri": "https://localhost:8080/"
        },
        "collapsed": true,
        "id": "OAme3wk68LNO",
        "outputId": "c7474022-0e84-4f79-85b7-cefd8d964a01"
      },
      "execution_count": null,
      "outputs": [
        {
          "output_type": "stream",
          "name": "stdout",
          "text": [
            "Companies table saved and sorted by companyId.\n",
            "MovieCompanies table saved and sorted by movieId and companyId.\n"
          ]
        }
      ]
    },
    {
      "cell_type": "markdown",
      "source": [
        "## Production Country Processing"
      ],
      "metadata": {
        "id": "5eoXW3htBC9Y"
      }
    },
    {
      "cell_type": "code",
      "source": [
        "# Placeholder for country list\n",
        "countries_list = []\n",
        "\n",
        "# Ensure all values in production_countries are strings\n",
        "movies['production_countries'] = movies['production_countries'].astype(str)\n",
        "\n",
        "# Filter rows that look like valid JSON arrays\n",
        "valid_rows = movies['production_countries'].str.startswith('[')\n",
        "movies = movies[valid_rows]\n",
        "\n",
        "# Process each row in the valid movies DataFrame\n",
        "for _, row in movies.iterrows():\n",
        "    try:\n",
        "        # Safely evaluate the Python-like string\n",
        "        countries = ast.literal_eval(row['production_countries'])\n",
        "\n",
        "        # Process each country\n",
        "        for country in countries:\n",
        "            countries_list.append({'movieId': row['id'], 'name': country['name']})\n",
        "    except (ValueError, SyntaxError, TypeError) as e:\n",
        "        print(f\"Skipping malformed data: {row['production_countries']} - Error: {e}\")\n",
        "\n",
        "# Convert countries list to DataFrame\n",
        "countries_df = pd.DataFrame(countries_list)\n",
        "\n",
        "# Ensure movieId is numeric, drop invalid rows\n",
        "countries_df['movieId'] = pd.to_numeric(countries_df['movieId'], errors='coerce')\n",
        "countries_df = countries_df.dropna(subset=['movieId']).astype({'movieId': 'int'})\n",
        "\n",
        "# Create unique Countries table with auto-generated countryId\n",
        "countries_table = countries_df[['name']].drop_duplicates().reset_index(drop=True)\n",
        "countries_table['countryId'] = countries_table.index + 1  # Generate sequential IDs\n",
        "countries_table = countries_table[['countryId', 'name']]\n",
        "\n",
        "# Save sorted Countries table\n",
        "countries_table.to_csv('countries.csv', index=False)\n",
        "print(\"Countries table saved with countryId and sorted by name.\")\n",
        "\n",
        "# Create MovieCountries table\n",
        "movie_countries_table = countries_df.merge(countries_table, on='name')[['movieId', 'countryId']].drop_duplicates()\n",
        "movie_countries_table = movie_countries_table.sort_values(by=['movieId', 'countryId'])\n",
        "\n",
        "# Save sorted MovieCountries table\n",
        "movie_countries_table.to_csv('movie_countries.csv', index=False)\n",
        "print(\"MovieCountries table saved and sorted by movieId and countryId.\")\n"
      ],
      "metadata": {
        "colab": {
          "base_uri": "https://localhost:8080/"
        },
        "id": "Lz3SR6lcBIUO",
        "outputId": "5ca544d9-acf5-42d8-c088-443f1d1f19d2"
      },
      "execution_count": null,
      "outputs": [
        {
          "output_type": "stream",
          "name": "stdout",
          "text": [
            "Countries table saved with countryId and sorted by name.\n",
            "MovieCountries table saved and sorted by movieId and countryId.\n"
          ]
        }
      ]
    },
    {
      "cell_type": "markdown",
      "source": [
        "## Keywords processing"
      ],
      "metadata": {
        "id": "OCtBdBv5C1wc"
      }
    },
    {
      "cell_type": "code",
      "source": [
        "# Load the keywords CSV\n",
        "keywords_csv = pd.read_csv('keywords.csv')\n",
        "\n",
        "# Placeholder for keywords list\n",
        "keywords_list = []\n",
        "\n",
        "# Ensure all values in keywords are strings\n",
        "keywords_csv['keywords'] = keywords_csv['keywords'].astype(str)\n",
        "\n",
        "# Filter rows that look like valid JSON arrays\n",
        "valid_rows = keywords_csv['keywords'].str.startswith('[')\n",
        "keywords_csv = keywords_csv[valid_rows]\n",
        "\n",
        "# Process each row in the keywords CSV\n",
        "for _, row in keywords_csv.iterrows():\n",
        "    try:\n",
        "        # Safely evaluate the Python-like string\n",
        "        keywords = ast.literal_eval(row['keywords'])\n",
        "\n",
        "        # Process each keyword\n",
        "        for keyword in keywords:\n",
        "            keywords_list.append({'movieId': row['id'], 'keywordId': keyword['id'], 'name': keyword['name']})\n",
        "    except (ValueError, SyntaxError, TypeError) as e:\n",
        "        print(f\"Skipping malformed data: {row['keywords']} - Error: {e}\")\n",
        "\n",
        "# Convert keywords list to DataFrame\n",
        "keywords_df = pd.DataFrame(keywords_list)\n",
        "\n",
        "# Ensure movieId and keywordId are numeric, drop invalid rows\n",
        "keywords_df['movieId'] = pd.to_numeric(keywords_df['movieId'], errors='coerce')\n",
        "keywords_df['keywordId'] = pd.to_numeric(keywords_df['keywordId'], errors='coerce')\n",
        "keywords_df = keywords_df.dropna(subset=['movieId', 'keywordId']).astype({'movieId': 'int', 'keywordId': 'int'})\n",
        "\n",
        "# Create unique Keywords table\n",
        "keywords_table = keywords_df[['keywordId', 'name']].drop_duplicates().sort_values(by='keywordId')\n",
        "keywords_table.to_csv('keywords.csv', index=False)\n",
        "print(\"Keywords table saved and sorted by keywordId.\")\n",
        "\n",
        "# Create MovieKeywords table\n",
        "movie_keywords_table = keywords_df[['movieId', 'keywordId']].drop_duplicates().sort_values(by=['movieId', 'keywordId'])\n",
        "movie_keywords_table.to_csv('movie_keywords.csv', index=False)\n",
        "print(\"MovieKeywords table saved and sorted by movieId and keywordId.\")"
      ],
      "metadata": {
        "colab": {
          "base_uri": "https://localhost:8080/"
        },
        "id": "N7lkDIlGC5ps",
        "outputId": "fd698c54-8666-4e3a-f228-4dc8fd2c9222"
      },
      "execution_count": null,
      "outputs": [
        {
          "output_type": "stream",
          "name": "stdout",
          "text": [
            "Keywords table saved and sorted by keywordId.\n",
            "MovieKeywords table saved and sorted by movieId and keywordId.\n"
          ]
        }
      ]
    },
    {
      "cell_type": "markdown",
      "source": [
        "## Rating Processing"
      ],
      "metadata": {
        "id": "fG797YGeRYUF"
      }
    },
    {
      "cell_type": "code",
      "source": [
        "# TODO\n",
        "import pandas as pd\n",
        "\n",
        "# Load the ratings dataset\n",
        "ratings = pd.read_csv('ratings_small.csv')\n",
        "\n",
        "# Extract relevant columns\n",
        "ratings_filtered = ratings[['userId', 'movieId', 'rating']]\n",
        "\n",
        "# Save the filtered data to a new CSV file\n",
        "ratings_filtered.to_csv('ratings.csv', index=False)\n",
        "print(\"Filtered ratings data saved successfully.\")"
      ],
      "metadata": {
        "id": "oZnv6UhEReQH",
        "colab": {
          "base_uri": "https://localhost:8080/"
        },
        "outputId": "b612fa20-b0f2-4d58-ae1f-3ffb285559fd"
      },
      "execution_count": 4,
      "outputs": [
        {
          "output_type": "stream",
          "name": "stdout",
          "text": [
            "Filtered ratings data saved successfully.\n"
          ]
        }
      ]
    }
  ]
}